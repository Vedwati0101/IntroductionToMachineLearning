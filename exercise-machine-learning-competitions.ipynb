{
 "cells": [
  {
   "cell_type": "markdown",
   "id": "57abbcd1",
   "metadata": {
    "papermill": {
     "duration": 0.00486,
     "end_time": "2023-02-07T17:58:40.257795",
     "exception": false,
     "start_time": "2023-02-07T17:58:40.252935",
     "status": "completed"
    },
    "tags": []
   },
   "source": [
    "**This notebook is an exercise in the [Introduction to Machine Learning](https://www.kaggle.com/learn/intro-to-machine-learning) course.  You can reference the tutorial at [this link](https://www.kaggle.com/alexisbcook/machine-learning-competitions).**\n",
    "\n",
    "---\n"
   ]
  },
  {
   "cell_type": "markdown",
   "id": "96091f3c",
   "metadata": {
    "papermill": {
     "duration": 0.003385,
     "end_time": "2023-02-07T17:58:40.265162",
     "exception": false,
     "start_time": "2023-02-07T17:58:40.261777",
     "status": "completed"
    },
    "tags": []
   },
   "source": [
    "# Introduction\n",
    "\n",
    "In this exercise, you will create and submit predictions for a Kaggle competition. You can then improve your model (e.g. by adding features) to apply what you've learned and move up the leaderboard.\n",
    "\n",
    "Begin by running the code cell below to set up code checking and the filepaths for the dataset."
   ]
  },
  {
   "cell_type": "code",
   "execution_count": 1,
   "id": "4dad91a6",
   "metadata": {
    "execution": {
     "iopub.execute_input": "2023-02-07T17:58:40.275170Z",
     "iopub.status.busy": "2023-02-07T17:58:40.274202Z",
     "iopub.status.idle": "2023-02-07T17:58:40.333170Z",
     "shell.execute_reply": "2023-02-07T17:58:40.332082Z"
    },
    "papermill": {
     "duration": 0.06728,
     "end_time": "2023-02-07T17:58:40.336063",
     "exception": false,
     "start_time": "2023-02-07T17:58:40.268783",
     "status": "completed"
    },
    "tags": []
   },
   "outputs": [],
   "source": [
    "# Set up code checking\n",
    "from learntools.core import binder\n",
    "binder.bind(globals())\n",
    "from learntools.machine_learning.ex7 import *\n",
    "\n",
    "# Set up filepaths\n",
    "import os\n",
    "if not os.path.exists(\"../input/train.csv\"):\n",
    "    os.symlink(\"../input/home-data-for-ml-course/train.csv\", \"../input/train.csv\")  \n",
    "    os.symlink(\"../input/home-data-for-ml-course/test.csv\", \"../input/test.csv\") "
   ]
  },
  {
   "cell_type": "markdown",
   "id": "0b4fe5de",
   "metadata": {
    "papermill": {
     "duration": 0.003503,
     "end_time": "2023-02-07T17:58:40.343515",
     "exception": false,
     "start_time": "2023-02-07T17:58:40.340012",
     "status": "completed"
    },
    "tags": []
   },
   "source": [
    "Here's some of the code you've written so far. Start by running it again."
   ]
  },
  {
   "cell_type": "code",
   "execution_count": 2,
   "id": "182048e8",
   "metadata": {
    "execution": {
     "iopub.execute_input": "2023-02-07T17:58:40.352464Z",
     "iopub.status.busy": "2023-02-07T17:58:40.351848Z",
     "iopub.status.idle": "2023-02-07T17:58:41.949043Z",
     "shell.execute_reply": "2023-02-07T17:58:41.947946Z"
    },
    "papermill": {
     "duration": 1.605406,
     "end_time": "2023-02-07T17:58:41.952485",
     "exception": false,
     "start_time": "2023-02-07T17:58:40.347079",
     "status": "completed"
    },
    "tags": []
   },
   "outputs": [
    {
     "name": "stdout",
     "output_type": "stream",
     "text": [
      "      LotArea  YearBuilt  1stFlrSF  2ndFlrSF  FullBath  BedroomAbvGr  \\\n",
      "258     12435       2001       963       829         2             3   \n",
      "267      8400       1939      1052       720         2             4   \n",
      "288      9819       1967       900         0         1             3   \n",
      "649      1936       1970       630         0         1             1   \n",
      "1233    12160       1959      1188         0         1             3   \n",
      "...       ...        ...       ...       ...       ...           ...   \n",
      "1017     5814       1984      1360         0         1             1   \n",
      "534      9056       2004       707       707         2             3   \n",
      "1334     2368       1970       765       600         1             3   \n",
      "1369    10635       2003      1668         0         2             3   \n",
      "628     11606       1969      1040      1040         1             5   \n",
      "\n",
      "      TotRmsAbvGrd  \n",
      "258              7  \n",
      "267              8  \n",
      "288              5  \n",
      "649              3  \n",
      "1233             6  \n",
      "...            ...  \n",
      "1017             4  \n",
      "534              6  \n",
      "1334             7  \n",
      "1369             8  \n",
      "628              9  \n",
      "\n",
      "[365 rows x 7 columns]\n",
      "Validation MAE for Random Forest Model: 21,857\n"
     ]
    }
   ],
   "source": [
    "# Import helpful libraries\n",
    "import pandas as pd\n",
    "from sklearn.ensemble import RandomForestRegressor\n",
    "from sklearn.metrics import mean_absolute_error\n",
    "from sklearn.model_selection import train_test_split\n",
    "\n",
    "# Load the data, and separate the target\n",
    "iowa_file_path = '../input/train.csv'\n",
    "home_data = pd.read_csv(iowa_file_path)\n",
    "y = home_data.SalePrice\n",
    "\n",
    "# Create X (After completing the exercise, you can return to modify this line!)\n",
    "features = ['LotArea', 'YearBuilt', '1stFlrSF', '2ndFlrSF', 'FullBath', 'BedroomAbvGr', 'TotRmsAbvGrd']\n",
    "\n",
    "# Select columns corresponding to features, and preview the data\n",
    "X = home_data[features]\n",
    "X.head()\n",
    "\n",
    "# Split into validation and training data\n",
    "train_X, val_X, train_y, val_y = train_test_split(X, y, random_state=1)\n",
    "\n",
    "# Define a random forest model\n",
    "rf_model = RandomForestRegressor(random_state=1)\n",
    "rf_model.fit(train_X, train_y)\n",
    "rf_val_predictions = rf_model.predict(val_X)\n",
    "rf_val_mae = mean_absolute_error(rf_val_predictions, val_y)\n",
    "print(val_X)\n",
    "\n",
    "print(\"Validation MAE for Random Forest Model: {:,.0f}\".format(rf_val_mae))"
   ]
  },
  {
   "cell_type": "markdown",
   "id": "3515406b",
   "metadata": {
    "papermill": {
     "duration": 0.003623,
     "end_time": "2023-02-07T17:58:41.960515",
     "exception": false,
     "start_time": "2023-02-07T17:58:41.956892",
     "status": "completed"
    },
    "tags": []
   },
   "source": [
    "# Train a model for the competition\n",
    "\n",
    "The code cell above trains a Random Forest model on **`train_X`** and **`train_y`**.  \n",
    "\n",
    "Use the code cell below to build a Random Forest model and train it on all of **`X`** and **`y`**."
   ]
  },
  {
   "cell_type": "code",
   "execution_count": 3,
   "id": "ad824556",
   "metadata": {
    "execution": {
     "iopub.execute_input": "2023-02-07T17:58:41.969888Z",
     "iopub.status.busy": "2023-02-07T17:58:41.969441Z",
     "iopub.status.idle": "2023-02-07T17:58:42.489898Z",
     "shell.execute_reply": "2023-02-07T17:58:42.488778Z"
    },
    "papermill": {
     "duration": 0.527822,
     "end_time": "2023-02-07T17:58:42.492170",
     "exception": false,
     "start_time": "2023-02-07T17:58:41.964348",
     "status": "completed"
    },
    "tags": []
   },
   "outputs": [
    {
     "data": {
      "text/plain": [
       "RandomForestRegressor(random_state=1)"
      ]
     },
     "execution_count": 3,
     "metadata": {},
     "output_type": "execute_result"
    }
   ],
   "source": [
    "from sklearn.ensemble import RandomForestRegressor\n",
    "\n",
    "# To improve accuracy, create a new Random Forest model which you will train on all training data\n",
    "rf_model_on_full_data = RandomForestRegressor(random_state =1)\n",
    "\n",
    "# fit rf_model_on_full_data on all data from the training data\n",
    "rf_model_on_full_data.fit(X, y)"
   ]
  },
  {
   "cell_type": "markdown",
   "id": "ff380ca2",
   "metadata": {
    "papermill": {
     "duration": 0.003626,
     "end_time": "2023-02-07T17:58:42.499842",
     "exception": false,
     "start_time": "2023-02-07T17:58:42.496216",
     "status": "completed"
    },
    "tags": []
   },
   "source": [
    "Now, read the file of \"test\" data, and apply your model to make predictions."
   ]
  },
  {
   "cell_type": "code",
   "execution_count": 4,
   "id": "7c052b5f",
   "metadata": {
    "execution": {
     "iopub.execute_input": "2023-02-07T17:58:42.509014Z",
     "iopub.status.busy": "2023-02-07T17:58:42.508610Z",
     "iopub.status.idle": "2023-02-07T17:58:42.581531Z",
     "shell.execute_reply": "2023-02-07T17:58:42.580423Z"
    },
    "papermill": {
     "duration": 0.080624,
     "end_time": "2023-02-07T17:58:42.584212",
     "exception": false,
     "start_time": "2023-02-07T17:58:42.503588",
     "status": "completed"
    },
    "tags": []
   },
   "outputs": [],
   "source": [
    "# path to file you will use for predictions\n",
    "test_data_path = '../input/test.csv'\n",
    "\n",
    "# read test data file using pandas\n",
    "test_data = pd.read_csv(test_data_path)\n",
    "\n",
    "# create test_X which comes from test_data but includes only the columns you used for prediction.\n",
    "# The list of columns is stored in a variable called features\n",
    "test_X =test_data[features]\n",
    "\n",
    "#test_X.head()\n",
    "# make predictions which we will submit. \n",
    "test_preds = rf_model_on_full_data.predict(test_X)\n",
    "\n"
   ]
  },
  {
   "cell_type": "markdown",
   "id": "475cdd43",
   "metadata": {
    "papermill": {
     "duration": 0.003768,
     "end_time": "2023-02-07T17:58:42.592111",
     "exception": false,
     "start_time": "2023-02-07T17:58:42.588343",
     "status": "completed"
    },
    "tags": []
   },
   "source": [
    "Before submitting, run a check to make sure your `test_preds` have the right format."
   ]
  },
  {
   "cell_type": "code",
   "execution_count": 5,
   "id": "2a563e9d",
   "metadata": {
    "execution": {
     "iopub.execute_input": "2023-02-07T17:58:42.602012Z",
     "iopub.status.busy": "2023-02-07T17:58:42.601388Z",
     "iopub.status.idle": "2023-02-07T17:58:42.608691Z",
     "shell.execute_reply": "2023-02-07T17:58:42.607661Z"
    },
    "papermill": {
     "duration": 0.014983,
     "end_time": "2023-02-07T17:58:42.611060",
     "exception": false,
     "start_time": "2023-02-07T17:58:42.596077",
     "status": "completed"
    },
    "tags": []
   },
   "outputs": [
    {
     "data": {
      "application/javascript": [
       "parent.postMessage({\"jupyterEvent\": \"custom.exercise_interaction\", \"data\": {\"outcomeType\": 1, \"valueTowardsCompletion\": 1.0, \"interactionType\": 1, \"questionType\": 2, \"questionId\": \"1_CheckSubmittablePreds\", \"learnToolsVersion\": \"0.3.4\", \"failureMessage\": \"\", \"exceptionClass\": \"\", \"trace\": \"\"}}, \"*\")"
      ],
      "text/plain": [
       "<IPython.core.display.Javascript object>"
      ]
     },
     "metadata": {},
     "output_type": "display_data"
    },
    {
     "data": {
      "text/markdown": [
       "<span style=\"color:#33cc33\">Correct</span>"
      ],
      "text/plain": [
       "Correct"
      ]
     },
     "metadata": {},
     "output_type": "display_data"
    }
   ],
   "source": [
    "# Check your answer (To get credit for completing the exercise, you must get a \"Correct\" result!)\n",
    "step_1.check()\n",
    "#step_1.solution()"
   ]
  },
  {
   "cell_type": "markdown",
   "id": "9ac7f13e",
   "metadata": {
    "papermill": {
     "duration": 0.003982,
     "end_time": "2023-02-07T17:58:42.619332",
     "exception": false,
     "start_time": "2023-02-07T17:58:42.615350",
     "status": "completed"
    },
    "tags": []
   },
   "source": [
    "# Generate a submission\n",
    "\n",
    "Run the code cell below to generate a CSV file with your predictions that you can use to submit to the competition."
   ]
  },
  {
   "cell_type": "code",
   "execution_count": 6,
   "id": "50602dc4",
   "metadata": {
    "execution": {
     "iopub.execute_input": "2023-02-07T17:58:42.629639Z",
     "iopub.status.busy": "2023-02-07T17:58:42.628860Z",
     "iopub.status.idle": "2023-02-07T17:58:42.640521Z",
     "shell.execute_reply": "2023-02-07T17:58:42.639416Z"
    },
    "papermill": {
     "duration": 0.01944,
     "end_time": "2023-02-07T17:58:42.642901",
     "exception": false,
     "start_time": "2023-02-07T17:58:42.623461",
     "status": "completed"
    },
    "tags": []
   },
   "outputs": [],
   "source": [
    "# Run the code to save predictions in the format used for competition scoring\n",
    "\n",
    "output = pd.DataFrame({'Id': test_data.Id,\n",
    "                       'SalePrice': test_preds})\n",
    "output.to_csv('submission.csv', index=False)"
   ]
  },
  {
   "cell_type": "markdown",
   "id": "c63fe633",
   "metadata": {
    "papermill": {
     "duration": 0.004052,
     "end_time": "2023-02-07T17:58:42.651359",
     "exception": false,
     "start_time": "2023-02-07T17:58:42.647307",
     "status": "completed"
    },
    "tags": []
   },
   "source": [
    "# Submit to the competition\n",
    "\n",
    "To test your results, you'll need to join the competition (if you haven't already).  So open a new window by clicking on **[this link](https://www.kaggle.com/c/home-data-for-ml-course)**.  Then click on the **Join Competition** button.\n",
    "\n",
    "![join competition image](https://i.imgur.com/axBzctl.png)\n",
    "\n",
    "Next, follow the instructions below:\n",
    "1. Begin by clicking on the **Save Version** button in the top right corner of the window.  This will generate a pop-up window.  \n",
    "2. Ensure that the **Save and Run All** option is selected, and then click on the **Save** button.\n",
    "3. This generates a window in the bottom left corner of the notebook.  After it has finished running, click on the number to the right of the **Save Version** button.  This pulls up a list of versions on the right of the screen.  Click on the ellipsis **(...)** to the right of the most recent version, and select **Open in Viewer**.  This brings you into view mode of the same page. You will need to scroll down to get back to these instructions.\n",
    "4. Click on the **Output** tab on the right of the screen.  Then, click on the file you would like to submit, and click on the **Submit** button to submit your results to the leaderboard.\n",
    "\n",
    "You have now successfully submitted to the competition!\n",
    "\n",
    "If you want to keep working to improve your performance, select the **Edit** button in the top right of the screen. Then you can change your code and repeat the process. There's a lot of room to improve, and you will climb up the leaderboard as you work.\n",
    "\n",
    "\n",
    "# Continue Your Progress\n",
    "There are many ways to improve your model, and **experimenting is a great way to learn at this point.**\n",
    "\n",
    "The best way to improve your model is to add features.  To add more features to the data, revisit the first code cell, and change this line of code to include more column names:\n",
    "```python\n",
    "features = ['LotArea', 'YearBuilt', '1stFlrSF', '2ndFlrSF', 'FullBath', 'BedroomAbvGr', 'TotRmsAbvGrd']\n",
    "```\n",
    "\n",
    "Some features will cause errors because of issues like missing values or non-numeric data types.  Here is a complete list of potential columns that you might like to use, and that won't throw errors:\n",
    "- 'MSSubClass'\n",
    "- 'LotArea'\n",
    "- 'OverallQual' \n",
    "- 'OverallCond' \n",
    "- 'YearBuilt'\n",
    "- 'YearRemodAdd' \n",
    "- '1stFlrSF'\n",
    "- '2ndFlrSF' \n",
    "- 'LowQualFinSF' \n",
    "- 'GrLivArea'\n",
    "- 'FullBath'\n",
    "- 'HalfBath'\n",
    "- 'BedroomAbvGr' \n",
    "- 'KitchenAbvGr' \n",
    "- 'TotRmsAbvGrd' \n",
    "- 'Fireplaces' \n",
    "- 'WoodDeckSF' \n",
    "- 'OpenPorchSF'\n",
    "- 'EnclosedPorch' \n",
    "- '3SsnPorch' \n",
    "- 'ScreenPorch' \n",
    "- 'PoolArea' \n",
    "- 'MiscVal' \n",
    "- 'MoSold' \n",
    "- 'YrSold'\n",
    "\n",
    "Look at the list of columns and think about what might affect home prices.  To learn more about each of these features, take a look at the data description on the **[competition page](https://www.kaggle.com/c/home-data-for-ml-course/data)**.\n",
    "\n",
    "After updating the code cell above that defines the features, re-run all of the code cells to evaluate the model and generate a new submission file.  \n",
    "\n",
    "\n",
    "# What's next?\n",
    "\n",
    "As mentioned above, some of the features will throw an error if you try to use them to train your model.  The **[Intermediate Machine Learning](https://www.kaggle.com/learn/intermediate-machine-learning)** course will teach you how to handle these types of features. You will also learn to use **xgboost**, a technique giving even better accuracy than Random Forest.\n",
    "\n",
    "The **[Pandas](https://kaggle.com/Learn/Pandas)** course will give you the data manipulation skills to quickly go from conceptual idea to implementation in your data science projects. \n",
    "\n",
    "You are also ready for the **[Deep Learning](https://kaggle.com/Learn/intro-to-Deep-Learning)** course, where you will build models with better-than-human level performance at computer vision tasks."
   ]
  },
  {
   "cell_type": "markdown",
   "id": "99b72fb6",
   "metadata": {
    "papermill": {
     "duration": 0.00394,
     "end_time": "2023-02-07T17:58:42.659458",
     "exception": false,
     "start_time": "2023-02-07T17:58:42.655518",
     "status": "completed"
    },
    "tags": []
   },
   "source": [
    "---\n",
    "\n",
    "\n",
    "\n",
    "\n",
    "*Have questions or comments? Visit the [course discussion forum](https://www.kaggle.com/learn/intro-to-machine-learning/discussion) to chat with other learners.*"
   ]
  }
 ],
 "metadata": {
  "kernelspec": {
   "display_name": "Python 3",
   "language": "python",
   "name": "python3"
  },
  "language_info": {
   "codemirror_mode": {
    "name": "ipython",
    "version": 3
   },
   "file_extension": ".py",
   "mimetype": "text/x-python",
   "name": "python",
   "nbconvert_exporter": "python",
   "pygments_lexer": "ipython3",
   "version": "3.7.12"
  },
  "papermill": {
   "default_parameters": {},
   "duration": 11.202176,
   "end_time": "2023-02-07T17:58:43.385015",
   "environment_variables": {},
   "exception": null,
   "input_path": "__notebook__.ipynb",
   "output_path": "__notebook__.ipynb",
   "parameters": {},
   "start_time": "2023-02-07T17:58:32.182839",
   "version": "2.3.4"
  }
 },
 "nbformat": 4,
 "nbformat_minor": 5
}
