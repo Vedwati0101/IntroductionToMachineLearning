{
 "cells": [
  {
   "cell_type": "markdown",
   "id": "2d9758c8",
   "metadata": {
    "papermill": {
     "duration": 0.007741,
     "end_time": "2023-02-05T20:35:15.144237",
     "exception": false,
     "start_time": "2023-02-05T20:35:15.136496",
     "status": "completed"
    },
    "tags": []
   },
   "source": [
    "**This notebook is an exercise in the [Introduction to Machine Learning](https://www.kaggle.com/learn/intro-to-machine-learning) course.  You can reference the tutorial at [this link](https://www.kaggle.com/dansbecker/your-first-machine-learning-model).**\n",
    "\n",
    "---\n"
   ]
  },
  {
   "cell_type": "markdown",
   "id": "65051235",
   "metadata": {
    "papermill": {
     "duration": 0.00482,
     "end_time": "2023-02-05T20:35:15.154468",
     "exception": false,
     "start_time": "2023-02-05T20:35:15.149648",
     "status": "completed"
    },
    "tags": []
   },
   "source": [
    "## Recap\n",
    "So far, you have loaded your data and reviewed it with the following code. Run this cell to set up your coding environment where the previous step left off."
   ]
  },
  {
   "cell_type": "code",
   "execution_count": 1,
   "id": "60a6e422",
   "metadata": {
    "execution": {
     "iopub.execute_input": "2023-02-05T20:35:15.167302Z",
     "iopub.status.busy": "2023-02-05T20:35:15.166818Z",
     "iopub.status.idle": "2023-02-05T20:35:16.614079Z",
     "shell.execute_reply": "2023-02-05T20:35:16.612840Z"
    },
    "papermill": {
     "duration": 1.456836,
     "end_time": "2023-02-05T20:35:16.616815",
     "exception": false,
     "start_time": "2023-02-05T20:35:15.159979",
     "status": "completed"
    },
    "tags": []
   },
   "outputs": [
    {
     "name": "stdout",
     "output_type": "stream",
     "text": [
      "Setup Complete\n"
     ]
    }
   ],
   "source": [
    "# Code you have previously used to load data\n",
    "import pandas as pd\n",
    "\n",
    "# Path of the file to read\n",
    "iowa_file_path = '../input/home-data-for-ml-course/train.csv'\n",
    "\n",
    "home_data = pd.read_csv(iowa_file_path)\n",
    "\n",
    "# Set up code checking\n",
    "from learntools.core import binder\n",
    "binder.bind(globals())\n",
    "from learntools.machine_learning.ex3 import *\n",
    "\n",
    "print(\"Setup Complete\")"
   ]
  },
  {
   "cell_type": "markdown",
   "id": "75f8d8cb",
   "metadata": {
    "papermill": {
     "duration": 0.005067,
     "end_time": "2023-02-05T20:35:16.627167",
     "exception": false,
     "start_time": "2023-02-05T20:35:16.622100",
     "status": "completed"
    },
    "tags": []
   },
   "source": [
    "# Exercises\n",
    "\n",
    "## Step 1: Specify Prediction Target\n",
    "Select the target variable, which corresponds to the sales price. Save this to a new variable called `y`. You'll need to print a list of the columns to find the name of the column you need.\n"
   ]
  },
  {
   "cell_type": "code",
   "execution_count": 2,
   "id": "4ef1e5ca",
   "metadata": {
    "execution": {
     "iopub.execute_input": "2023-02-05T20:35:16.639811Z",
     "iopub.status.busy": "2023-02-05T20:35:16.638665Z",
     "iopub.status.idle": "2023-02-05T20:35:16.645125Z",
     "shell.execute_reply": "2023-02-05T20:35:16.643672Z"
    },
    "papermill": {
     "duration": 0.015352,
     "end_time": "2023-02-05T20:35:16.647586",
     "exception": false,
     "start_time": "2023-02-05T20:35:16.632234",
     "status": "completed"
    },
    "tags": []
   },
   "outputs": [
    {
     "name": "stdout",
     "output_type": "stream",
     "text": [
      "Index(['Id', 'MSSubClass', 'MSZoning', 'LotFrontage', 'LotArea', 'Street',\n",
      "       'Alley', 'LotShape', 'LandContour', 'Utilities', 'LotConfig',\n",
      "       'LandSlope', 'Neighborhood', 'Condition1', 'Condition2', 'BldgType',\n",
      "       'HouseStyle', 'OverallQual', 'OverallCond', 'YearBuilt', 'YearRemodAdd',\n",
      "       'RoofStyle', 'RoofMatl', 'Exterior1st', 'Exterior2nd', 'MasVnrType',\n",
      "       'MasVnrArea', 'ExterQual', 'ExterCond', 'Foundation', 'BsmtQual',\n",
      "       'BsmtCond', 'BsmtExposure', 'BsmtFinType1', 'BsmtFinSF1',\n",
      "       'BsmtFinType2', 'BsmtFinSF2', 'BsmtUnfSF', 'TotalBsmtSF', 'Heating',\n",
      "       'HeatingQC', 'CentralAir', 'Electrical', '1stFlrSF', '2ndFlrSF',\n",
      "       'LowQualFinSF', 'GrLivArea', 'BsmtFullBath', 'BsmtHalfBath', 'FullBath',\n",
      "       'HalfBath', 'BedroomAbvGr', 'KitchenAbvGr', 'KitchenQual',\n",
      "       'TotRmsAbvGrd', 'Functional', 'Fireplaces', 'FireplaceQu', 'GarageType',\n",
      "       'GarageYrBlt', 'GarageFinish', 'GarageCars', 'GarageArea', 'GarageQual',\n",
      "       'GarageCond', 'PavedDrive', 'WoodDeckSF', 'OpenPorchSF',\n",
      "       'EnclosedPorch', '3SsnPorch', 'ScreenPorch', 'PoolArea', 'PoolQC',\n",
      "       'Fence', 'MiscFeature', 'MiscVal', 'MoSold', 'YrSold', 'SaleType',\n",
      "       'SaleCondition', 'SalePrice'],\n",
      "      dtype='object')\n"
     ]
    }
   ],
   "source": [
    "# print the list of columns in the dataset to find the name of the prediction target\n",
    "print(home_data.columns)\n",
    "#y=home_data.price"
   ]
  },
  {
   "cell_type": "code",
   "execution_count": 3,
   "id": "4600c65a",
   "metadata": {
    "execution": {
     "iopub.execute_input": "2023-02-05T20:35:16.661646Z",
     "iopub.status.busy": "2023-02-05T20:35:16.661252Z",
     "iopub.status.idle": "2023-02-05T20:35:16.679161Z",
     "shell.execute_reply": "2023-02-05T20:35:16.677946Z"
    },
    "papermill": {
     "duration": 0.027667,
     "end_time": "2023-02-05T20:35:16.681530",
     "exception": false,
     "start_time": "2023-02-05T20:35:16.653863",
     "status": "completed"
    },
    "tags": []
   },
   "outputs": [
    {
     "data": {
      "application/javascript": [
       "parent.postMessage({\"jupyterEvent\": \"custom.exercise_interaction\", \"data\": {\"outcomeType\": 1, \"valueTowardsCompletion\": 0.25, \"interactionType\": 1, \"questionType\": 2, \"questionId\": \"1_SetTarget\", \"learnToolsVersion\": \"0.3.4\", \"failureMessage\": \"\", \"exceptionClass\": \"\", \"trace\": \"\"}}, \"*\")"
      ],
      "text/plain": [
       "<IPython.core.display.Javascript object>"
      ]
     },
     "metadata": {},
     "output_type": "display_data"
    },
    {
     "data": {
      "text/markdown": [
       "<span style=\"color:#33cc33\">Correct</span>"
      ],
      "text/plain": [
       "Correct"
      ]
     },
     "metadata": {},
     "output_type": "display_data"
    }
   ],
   "source": [
    "y = home_data.SalePrice\n",
    "\n",
    "# Check your answer\n",
    "step_1.check()"
   ]
  },
  {
   "cell_type": "code",
   "execution_count": 4,
   "id": "38fef858",
   "metadata": {
    "execution": {
     "iopub.execute_input": "2023-02-05T20:35:16.695412Z",
     "iopub.status.busy": "2023-02-05T20:35:16.694617Z",
     "iopub.status.idle": "2023-02-05T20:35:16.704244Z",
     "shell.execute_reply": "2023-02-05T20:35:16.702870Z"
    },
    "papermill": {
     "duration": 0.019278,
     "end_time": "2023-02-05T20:35:16.706614",
     "exception": false,
     "start_time": "2023-02-05T20:35:16.687336",
     "status": "completed"
    },
    "tags": []
   },
   "outputs": [
    {
     "data": {
      "application/javascript": [
       "parent.postMessage({\"jupyterEvent\": \"custom.exercise_interaction\", \"data\": {\"interactionType\": 2, \"questionType\": 2, \"questionId\": \"1_SetTarget\", \"learnToolsVersion\": \"0.3.4\", \"valueTowardsCompletion\": 0.0, \"failureMessage\": \"\", \"exceptionClass\": \"\", \"trace\": \"\", \"outcomeType\": 4}}, \"*\")"
      ],
      "text/plain": [
       "<IPython.core.display.Javascript object>"
      ]
     },
     "metadata": {},
     "output_type": "display_data"
    },
    {
     "data": {
      "text/markdown": [
       "<span style=\"color:#3366cc\">Hint:</span> Use `print(home_data.columns)`. The column you want is at the end of the list. Use the dot notation to pull out this column from the DataFrame"
      ],
      "text/plain": [
       "Hint: Use `print(home_data.columns)`. The column you want is at the end of the list. Use the dot notation to pull out this column from the DataFrame"
      ]
     },
     "metadata": {},
     "output_type": "display_data"
    }
   ],
   "source": [
    "# The lines below will show you a hint or the solution.\n",
    "step_1.hint() \n",
    "# step_1.solution()"
   ]
  },
  {
   "cell_type": "markdown",
   "id": "d4a55149",
   "metadata": {
    "papermill": {
     "duration": 0.005831,
     "end_time": "2023-02-05T20:35:16.718362",
     "exception": false,
     "start_time": "2023-02-05T20:35:16.712531",
     "status": "completed"
    },
    "tags": []
   },
   "source": [
    "## Step 2: Create X\n",
    "Now you will create a DataFrame called `X` holding the predictive features.\n",
    "\n",
    "Since you want only some columns from the original data, you'll first create a list with the names of the columns you want in `X`.\n",
    "\n",
    "You'll use just the following columns in the list (you can copy and paste the whole list to save some typing, though you'll still need to add quotes):\n",
    "  * LotArea\n",
    "  * YearBuilt\n",
    "  * 1stFlrSF\n",
    "  * 2ndFlrSF\n",
    "  * FullBath\n",
    "  * BedroomAbvGr\n",
    "  * TotRmsAbvGrd\n",
    "\n",
    "After you've created that list of features, use it to create the DataFrame that you'll use to fit the model."
   ]
  },
  {
   "cell_type": "code",
   "execution_count": 5,
   "id": "2e72de1e",
   "metadata": {
    "execution": {
     "iopub.execute_input": "2023-02-05T20:35:16.732299Z",
     "iopub.status.busy": "2023-02-05T20:35:16.731876Z",
     "iopub.status.idle": "2023-02-05T20:35:16.747162Z",
     "shell.execute_reply": "2023-02-05T20:35:16.745974Z"
    },
    "papermill": {
     "duration": 0.025077,
     "end_time": "2023-02-05T20:35:16.749434",
     "exception": false,
     "start_time": "2023-02-05T20:35:16.724357",
     "status": "completed"
    },
    "tags": []
   },
   "outputs": [
    {
     "data": {
      "application/javascript": [
       "parent.postMessage({\"jupyterEvent\": \"custom.exercise_interaction\", \"data\": {\"outcomeType\": 1, \"valueTowardsCompletion\": 0.25, \"interactionType\": 1, \"questionType\": 2, \"questionId\": \"2_SelectPredictionData\", \"learnToolsVersion\": \"0.3.4\", \"failureMessage\": \"\", \"exceptionClass\": \"\", \"trace\": \"\"}}, \"*\")"
      ],
      "text/plain": [
       "<IPython.core.display.Javascript object>"
      ]
     },
     "metadata": {},
     "output_type": "display_data"
    },
    {
     "data": {
      "text/markdown": [
       "<span style=\"color:#33cc33\">Correct</span>"
      ],
      "text/plain": [
       "Correct"
      ]
     },
     "metadata": {},
     "output_type": "display_data"
    }
   ],
   "source": [
    "# Create the list of features below\n",
    "feature_names = ['LotArea','YearBuilt','1stFlrSF','2ndFlrSF','FullBath','BedroomAbvGr','TotRmsAbvGrd']\n",
    "\n",
    "# Select data corresponding to features in feature_names\n",
    "X = home_data[feature_names]\n",
    "\n",
    "# Check your answer\n",
    "step_2.check()"
   ]
  },
  {
   "cell_type": "code",
   "execution_count": 6,
   "id": "85311fb1",
   "metadata": {
    "collapsed": true,
    "execution": {
     "iopub.execute_input": "2023-02-05T20:35:16.763682Z",
     "iopub.status.busy": "2023-02-05T20:35:16.763303Z",
     "iopub.status.idle": "2023-02-05T20:35:16.767424Z",
     "shell.execute_reply": "2023-02-05T20:35:16.766438Z"
    },
    "jupyter": {
     "outputs_hidden": true
    },
    "papermill": {
     "duration": 0.013789,
     "end_time": "2023-02-05T20:35:16.769591",
     "exception": false,
     "start_time": "2023-02-05T20:35:16.755802",
     "status": "completed"
    },
    "tags": []
   },
   "outputs": [],
   "source": [
    "# step_2.hint()\n",
    "# step_2.solution()"
   ]
  },
  {
   "cell_type": "markdown",
   "id": "7f2c2c81",
   "metadata": {
    "papermill": {
     "duration": 0.005734,
     "end_time": "2023-02-05T20:35:16.781488",
     "exception": false,
     "start_time": "2023-02-05T20:35:16.775754",
     "status": "completed"
    },
    "tags": []
   },
   "source": [
    "## Review Data\n",
    "Before building a model, take a quick look at **X** to verify it looks sensible"
   ]
  },
  {
   "cell_type": "code",
   "execution_count": 7,
   "id": "57a9f8a4",
   "metadata": {
    "execution": {
     "iopub.execute_input": "2023-02-05T20:35:16.795273Z",
     "iopub.status.busy": "2023-02-05T20:35:16.794859Z",
     "iopub.status.idle": "2023-02-05T20:35:16.804870Z",
     "shell.execute_reply": "2023-02-05T20:35:16.803128Z"
    },
    "papermill": {
     "duration": 0.02008,
     "end_time": "2023-02-05T20:35:16.807471",
     "exception": false,
     "start_time": "2023-02-05T20:35:16.787391",
     "status": "completed"
    },
    "tags": []
   },
   "outputs": [
    {
     "name": "stdout",
     "output_type": "stream",
     "text": [
      "   LotArea  YearBuilt  1stFlrSF  2ndFlrSF  FullBath  BedroomAbvGr  \\\n",
      "0     8450       2003       856       854         2             3   \n",
      "1     9600       1976      1262         0         2             3   \n",
      "2    11250       2001       920       866         2             3   \n",
      "3     9550       1915       961       756         1             3   \n",
      "4    14260       2000      1145      1053         2             4   \n",
      "\n",
      "   TotRmsAbvGrd  \n",
      "0             8  \n",
      "1             6  \n",
      "2             6  \n",
      "3             7  \n",
      "4             9  \n"
     ]
    }
   ],
   "source": [
    "# Review data\n",
    "# print description or statistics from X\n",
    "#print(X.describe)\n",
    "#X.describe()\n",
    "\n",
    "# print the top few lines\n",
    "print(X.head())"
   ]
  },
  {
   "cell_type": "markdown",
   "id": "c2d726de",
   "metadata": {
    "papermill": {
     "duration": 0.005977,
     "end_time": "2023-02-05T20:35:16.820018",
     "exception": false,
     "start_time": "2023-02-05T20:35:16.814041",
     "status": "completed"
    },
    "tags": []
   },
   "source": [
    "## Step 3: Specify and Fit Model\n",
    "Create a `DecisionTreeRegressor` and save it iowa_model. Ensure you've done the relevant import from sklearn to run this command.\n",
    "\n",
    "Then fit the model you just created using the data in `X` and `y` that you saved above."
   ]
  },
  {
   "cell_type": "code",
   "execution_count": 8,
   "id": "bab1e065",
   "metadata": {
    "execution": {
     "iopub.execute_input": "2023-02-05T20:35:16.833982Z",
     "iopub.status.busy": "2023-02-05T20:35:16.833566Z",
     "iopub.status.idle": "2023-02-05T20:35:16.851958Z",
     "shell.execute_reply": "2023-02-05T20:35:16.850842Z"
    },
    "papermill": {
     "duration": 0.028965,
     "end_time": "2023-02-05T20:35:16.855007",
     "exception": false,
     "start_time": "2023-02-05T20:35:16.826042",
     "status": "completed"
    },
    "tags": []
   },
   "outputs": [
    {
     "data": {
      "application/javascript": [
       "parent.postMessage({\"jupyterEvent\": \"custom.exercise_interaction\", \"data\": {\"outcomeType\": 1, \"valueTowardsCompletion\": 0.25, \"interactionType\": 1, \"questionType\": 2, \"questionId\": \"3_CreateModel\", \"learnToolsVersion\": \"0.3.4\", \"failureMessage\": \"\", \"exceptionClass\": \"\", \"trace\": \"\"}}, \"*\")"
      ],
      "text/plain": [
       "<IPython.core.display.Javascript object>"
      ]
     },
     "metadata": {},
     "output_type": "display_data"
    },
    {
     "data": {
      "text/markdown": [
       "<span style=\"color:#33cc33\">Correct</span>"
      ],
      "text/plain": [
       "Correct"
      ]
     },
     "metadata": {},
     "output_type": "display_data"
    }
   ],
   "source": [
    "\n",
    "from sklearn.tree import DecisionTreeRegressor\n",
    "\n",
    "\n",
    "#specify the model. \n",
    "\n",
    "#For model reproducibility, set a numeric value for random_state when specifying the model\n",
    "iowa_model = DecisionTreeRegressor(random_state =1)\n",
    "\n",
    "# Fit the model\n",
    "\n",
    "iowa_model.fit(X, y)\n",
    "\n",
    "# Check your answer\n",
    "step_3.check()"
   ]
  },
  {
   "cell_type": "code",
   "execution_count": 9,
   "id": "40129218",
   "metadata": {
    "execution": {
     "iopub.execute_input": "2023-02-05T20:35:16.870721Z",
     "iopub.status.busy": "2023-02-05T20:35:16.870320Z",
     "iopub.status.idle": "2023-02-05T20:35:16.879061Z",
     "shell.execute_reply": "2023-02-05T20:35:16.878017Z"
    },
    "papermill": {
     "duration": 0.019801,
     "end_time": "2023-02-05T20:35:16.881472",
     "exception": false,
     "start_time": "2023-02-05T20:35:16.861671",
     "status": "completed"
    },
    "tags": []
   },
   "outputs": [
    {
     "data": {
      "application/javascript": [
       "parent.postMessage({\"jupyterEvent\": \"custom.exercise_interaction\", \"data\": {\"interactionType\": 3, \"questionType\": 2, \"questionId\": \"3_CreateModel\", \"learnToolsVersion\": \"0.3.4\", \"valueTowardsCompletion\": 0.0, \"failureMessage\": \"\", \"exceptionClass\": \"\", \"trace\": \"\", \"outcomeType\": 4}}, \"*\")"
      ],
      "text/plain": [
       "<IPython.core.display.Javascript object>"
      ]
     },
     "metadata": {},
     "output_type": "display_data"
    },
    {
     "data": {
      "text/markdown": [
       "<span style=\"color:#33cc99\">Solution:</span> \n",
       "```python\n",
       "from sklearn.tree import DecisionTreeRegressor\n",
       "iowa_model = DecisionTreeRegressor(random_state=1)\n",
       "iowa_model.fit(X, y)\n",
       "```"
      ],
      "text/plain": [
       "Solution: \n",
       "```python\n",
       "from sklearn.tree import DecisionTreeRegressor\n",
       "iowa_model = DecisionTreeRegressor(random_state=1)\n",
       "iowa_model.fit(X, y)\n",
       "```"
      ]
     },
     "metadata": {},
     "output_type": "display_data"
    }
   ],
   "source": [
    "# step_3.hint()\n",
    "step_3.solution()"
   ]
  },
  {
   "cell_type": "markdown",
   "id": "b9a1c3b9",
   "metadata": {
    "papermill": {
     "duration": 0.006209,
     "end_time": "2023-02-05T20:35:16.894314",
     "exception": false,
     "start_time": "2023-02-05T20:35:16.888105",
     "status": "completed"
    },
    "tags": []
   },
   "source": [
    "## Step 4: Make Predictions\n",
    "Make predictions with the model's `predict` command using `X` as the data. Save the results to a variable called `predictions`."
   ]
  },
  {
   "cell_type": "code",
   "execution_count": 10,
   "id": "23c0f5a5",
   "metadata": {
    "execution": {
     "iopub.execute_input": "2023-02-05T20:35:16.909254Z",
     "iopub.status.busy": "2023-02-05T20:35:16.908827Z",
     "iopub.status.idle": "2023-02-05T20:35:16.923064Z",
     "shell.execute_reply": "2023-02-05T20:35:16.921478Z"
    },
    "papermill": {
     "duration": 0.024535,
     "end_time": "2023-02-05T20:35:16.925359",
     "exception": false,
     "start_time": "2023-02-05T20:35:16.900824",
     "status": "completed"
    },
    "tags": []
   },
   "outputs": [
    {
     "name": "stdout",
     "output_type": "stream",
     "text": [
      "[208500. 181500. 223500. ... 266500. 142125. 147500.]\n"
     ]
    },
    {
     "data": {
      "application/javascript": [
       "parent.postMessage({\"jupyterEvent\": \"custom.exercise_interaction\", \"data\": {\"outcomeType\": 1, \"valueTowardsCompletion\": 0.25, \"interactionType\": 1, \"questionType\": 2, \"questionId\": \"4_MakePredictions\", \"learnToolsVersion\": \"0.3.4\", \"failureMessage\": \"\", \"exceptionClass\": \"\", \"trace\": \"\"}}, \"*\")"
      ],
      "text/plain": [
       "<IPython.core.display.Javascript object>"
      ]
     },
     "metadata": {},
     "output_type": "display_data"
    },
    {
     "data": {
      "text/markdown": [
       "<span style=\"color:#33cc33\">Correct</span>"
      ],
      "text/plain": [
       "Correct"
      ]
     },
     "metadata": {},
     "output_type": "display_data"
    }
   ],
   "source": [
    "predictions = iowa_model.predict(X)\n",
    "print(predictions)\n",
    "\n",
    "# Check your answer\n",
    "step_4.check()"
   ]
  },
  {
   "cell_type": "code",
   "execution_count": 11,
   "id": "aaa2046c",
   "metadata": {
    "execution": {
     "iopub.execute_input": "2023-02-05T20:35:16.941539Z",
     "iopub.status.busy": "2023-02-05T20:35:16.941137Z",
     "iopub.status.idle": "2023-02-05T20:35:16.948570Z",
     "shell.execute_reply": "2023-02-05T20:35:16.947731Z"
    },
    "papermill": {
     "duration": 0.018359,
     "end_time": "2023-02-05T20:35:16.950728",
     "exception": false,
     "start_time": "2023-02-05T20:35:16.932369",
     "status": "completed"
    },
    "tags": []
   },
   "outputs": [
    {
     "data": {
      "application/javascript": [
       "parent.postMessage({\"jupyterEvent\": \"custom.exercise_interaction\", \"data\": {\"interactionType\": 3, \"questionType\": 2, \"questionId\": \"4_MakePredictions\", \"learnToolsVersion\": \"0.3.4\", \"valueTowardsCompletion\": 0.0, \"failureMessage\": \"\", \"exceptionClass\": \"\", \"trace\": \"\", \"outcomeType\": 4}}, \"*\")"
      ],
      "text/plain": [
       "<IPython.core.display.Javascript object>"
      ]
     },
     "metadata": {},
     "output_type": "display_data"
    },
    {
     "data": {
      "text/markdown": [
       "<span style=\"color:#33cc99\">Solution:</span> \n",
       "```python\n",
       "iowa_model.predict(X)\n",
       "```"
      ],
      "text/plain": [
       "Solution: \n",
       "```python\n",
       "iowa_model.predict(X)\n",
       "```"
      ]
     },
     "metadata": {},
     "output_type": "display_data"
    }
   ],
   "source": [
    "# step_4.hint()\n",
    "step_4.solution()"
   ]
  },
  {
   "cell_type": "markdown",
   "id": "2849ee0a",
   "metadata": {
    "papermill": {
     "duration": 0.006754,
     "end_time": "2023-02-05T20:35:16.964598",
     "exception": false,
     "start_time": "2023-02-05T20:35:16.957844",
     "status": "completed"
    },
    "tags": []
   },
   "source": [
    "## Think About Your Results\n",
    "\n",
    "Use the `head` method to compare the top few predictions to the actual home values (in `y`) for those same homes. Anything surprising?\n"
   ]
  },
  {
   "cell_type": "code",
   "execution_count": 12,
   "id": "a2089046",
   "metadata": {
    "execution": {
     "iopub.execute_input": "2023-02-05T20:35:16.982515Z",
     "iopub.status.busy": "2023-02-05T20:35:16.982092Z",
     "iopub.status.idle": "2023-02-05T20:35:16.994084Z",
     "shell.execute_reply": "2023-02-05T20:35:16.992747Z"
    },
    "papermill": {
     "duration": 0.025205,
     "end_time": "2023-02-05T20:35:16.997657",
     "exception": false,
     "start_time": "2023-02-05T20:35:16.972452",
     "status": "completed"
    },
    "tags": []
   },
   "outputs": [
    {
     "name": "stdout",
     "output_type": "stream",
     "text": [
      "Making predictions for the following 5 houses:\n",
      "   LotArea  YearBuilt  1stFlrSF  2ndFlrSF  FullBath  BedroomAbvGr  \\\n",
      "0     8450       2003       856       854         2             3   \n",
      "1     9600       1976      1262         0         2             3   \n",
      "2    11250       2001       920       866         2             3   \n",
      "3     9550       1915       961       756         1             3   \n",
      "4    14260       2000      1145      1053         2             4   \n",
      "\n",
      "   TotRmsAbvGrd  \n",
      "0             8  \n",
      "1             6  \n",
      "2             6  \n",
      "3             7  \n",
      "4             9  \n",
      "The predictions are\n",
      "[208500. 181500. 223500. 140000. 250000.]\n",
      "0    208500\n",
      "1    181500\n",
      "2    223500\n",
      "3    140000\n",
      "4    250000\n",
      "Name: SalePrice, dtype: int64\n"
     ]
    }
   ],
   "source": [
    "# You can write code in this cell\n",
    "print(\"Making predictions for the following 5 houses:\")\n",
    "print(X.head())\n",
    "print(\"The predictions are\")\n",
    "print(iowa_model.predict(X.head()))\n",
    "\n",
    "print(y.head())"
   ]
  },
  {
   "cell_type": "markdown",
   "id": "75f21c17",
   "metadata": {
    "papermill": {
     "duration": 0.007009,
     "end_time": "2023-02-05T20:35:17.012263",
     "exception": false,
     "start_time": "2023-02-05T20:35:17.005254",
     "status": "completed"
    },
    "tags": []
   },
   "source": [
    "It's natural to ask how accurate the model's predictions will be and how you can improve that. That will be you're next step.\n",
    "\n",
    "# Keep Going\n",
    "\n",
    "You are ready for **[Model Validation](https://www.kaggle.com/dansbecker/model-validation).**\n"
   ]
  },
  {
   "cell_type": "markdown",
   "id": "ad0f3af8",
   "metadata": {
    "papermill": {
     "duration": 0.006714,
     "end_time": "2023-02-05T20:35:17.026270",
     "exception": false,
     "start_time": "2023-02-05T20:35:17.019556",
     "status": "completed"
    },
    "tags": []
   },
   "source": [
    "---\n",
    "\n",
    "\n",
    "\n",
    "\n",
    "*Have questions or comments? Visit the [course discussion forum](https://www.kaggle.com/learn/intro-to-machine-learning/discussion) to chat with other learners.*"
   ]
  }
 ],
 "metadata": {
  "kernelspec": {
   "display_name": "Python 3",
   "language": "python",
   "name": "python3"
  },
  "language_info": {
   "codemirror_mode": {
    "name": "ipython",
    "version": 3
   },
   "file_extension": ".py",
   "mimetype": "text/x-python",
   "name": "python",
   "nbconvert_exporter": "python",
   "pygments_lexer": "ipython3",
   "version": "3.7.12"
  },
  "papermill": {
   "default_parameters": {},
   "duration": 11.658135,
   "end_time": "2023-02-05T20:35:17.855658",
   "environment_variables": {},
   "exception": null,
   "input_path": "__notebook__.ipynb",
   "output_path": "__notebook__.ipynb",
   "parameters": {},
   "start_time": "2023-02-05T20:35:06.197523",
   "version": "2.3.4"
  }
 },
 "nbformat": 4,
 "nbformat_minor": 5
}
